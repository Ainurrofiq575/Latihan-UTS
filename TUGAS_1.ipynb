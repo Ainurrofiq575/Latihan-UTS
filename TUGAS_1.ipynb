{
  "nbformat": 4,
  "nbformat_minor": 0,
  "metadata": {
    "colab": {
      "provenance": [],
      "authorship_tag": "ABX9TyM3XaN5yzRSTKRhks96saSb",
      "include_colab_link": true
    },
    "kernelspec": {
      "name": "python3",
      "display_name": "Python 3"
    },
    "language_info": {
      "name": "python"
    }
  },
  "cells": [
    {
      "cell_type": "markdown",
      "metadata": {
        "id": "view-in-github",
        "colab_type": "text"
      },
      "source": [
        "<a href=\"https://colab.research.google.com/github/Ainurrofiq575/Latihan-UTS/blob/master/TUGAS_1.ipynb\" target=\"_parent\"><img src=\"https://colab.research.google.com/assets/colab-badge.svg\" alt=\"Open In Colab\"/></a>"
      ]
    },
    {
      "cell_type": "code",
      "source": [
        "NAMA = \"Ainur Rofiq\"\n",
        "NIM  = 23090058\n",
        "print(\"NAMA: \",NAMA, \"\\n\", \"NIM: \",NIM, \"\\n\")\n",
        "import numpy as np\n",
        "VA      = [2, 4, 6, 8]\n",
        "VB      = [13, 15, 17, 19]\n",
        "VC      = [[10, 20, 30],[11, 22, 33]]\n",
        "VD      = [[9, 7, 5],[21, 31, 41]]\n",
        "vektor_a = np. array(VA)\n",
        "vektor_b = np. array(VB)\n",
        "vektor_c = np. array(VC)\n",
        "vektor_d = np. array(VD)\n",
        "print(\"PENJUMLAHAN & PENGURANGAN\")\n",
        "vektor_aplusb = vektor_a + vektor_b\n",
        "print(\"1. Hasil Penjumlahan dari vektor VA dan vektor VB adalah =/n\", str(vektor_aplusb), \"/n\")\n",
        "\n",
        "vektor_dplusc = vektor_d + vektor_c\n",
        "print(\"2. Hasil Penjumlahan dari vektor VD dan vektor VC adalah =/n\", str(vektor_dplusc), \"/n\")\n",
        "\n",
        "vektor_bmina = vektor_b - vektor_a\n",
        "print(\"3. Hasil Pengurangan dari vektor VB dan vektor VA adalah =/n\", str(vektor_bmina), \"/n\")\n",
        "\n",
        "vektor_cmind = vektor_c - vektor_d\n",
        "print(\"4. Hasil Pengurangan dari vektor VC dan vektor VD adalah =/n\", str(vektor_cmind), \"/n\")\n",
        "\n",
        "print(\"PERKALIAN & PEMBAGIAN\")\n",
        "vektor_bklia = vektor_b * vektor_a\n",
        "print(\"1. Hasil Perkalian dari vektor VB dan vektor VA adalah =/n\", str(vektor_bklia), \"/n\")\n",
        "\n",
        "vektor_cklid = vektor_c * vektor_d\n",
        "print(\"2. Hasil Perkalian dari vektor VC dan vektor VD adalah =/n\", str(vektor_cklid), \"/n\")\n",
        "\n",
        "vektor_bgia = vektor_b / vektor_a\n",
        "print(\"3. Hasil Pembagian dari vektor VB dan vektor VA adalah =/n\", str(vektor_bgia), \"/n\")\n",
        "\n",
        "vektor_dgic = vektor_d / vektor_c\n",
        "print(\"4. Hasil Pembagian dari vektor VD dan vektor VC adalah =/n\", str(vektor_dgic), \"/n\")\n",
        "\n",
        "print(\"PERKALIAN DOT VEKTOR\")\n",
        "vektor_bdota = np.dot(vektor_b, vektor_a)\n",
        "print(\"1. Hasil Perkalian dot vektor dari vektor VB dan vektor VA adalah =/n\", str(vektor_bdota), \"/n\")\n",
        "\n",
        "vektor_cdotd = np.inner(vektor_c, vektor_d)\n",
        "print(\"2. Hasil Perkalian dari vektor VC dan vektor VD adalah =/n\", str(vektor_cdotd), \"/n\")\n",
        "\n",
        "print(\"PERKALIAN SKALAR\")\n",
        "skalar1 = 2\n",
        "vektor_ali2 = vektor_a * skalar1\n",
        "print(\"1. Hasil dari perkalian skalar vektor a dengan 2 adalah = \\n\" , str(vektor_ali2), \"\\n\")\n",
        "\n",
        "skalar2 = 2.5\n",
        "vektor_bliduma = vektor_b * skalar2\n",
        "print(\"2. Hasil dari perkalian skalar vektor b dengan 2.5 adalah = \\n\" , str(vektor_bliduma), \"\\n\")\n",
        "\n",
        "skalar3 = 0.5\n",
        "vektor_clima = vektor_c * skalar3\n",
        "print(\"3. Hasil dari perkalian skalar vektor c dengan 0.5 adalah = \\n\" , str(vektor_clima), \"\\n\")\n",
        "\n",
        "skalar4 = 1.5\n",
        "vektor_dkoma = vektor_d * skalar4\n",
        "print(\"4. Hasil dari perkalian skalar vektor d dengan 1.5 adalah = \\n\" , str(vektor_dkoma), \"\\n\")"
      ],
      "metadata": {
        "id": "7Ym9EfSKefzu",
        "colab": {
          "base_uri": "https://localhost:8080/"
        },
        "outputId": "fb0402a0-3317-4133-ea08-8739971a59ad"
      },
      "execution_count": 1,
      "outputs": [
        {
          "output_type": "stream",
          "name": "stdout",
          "text": [
            "NAMA:  Ainur Rofiq \n",
            " NIM:  23090058 \n",
            "\n",
            "PENJUMLAHAN & PENGURANGAN\n",
            "1. Hasil Penjumlahan dari vektor VA dan vektor VB adalah =/n [15 19 23 27] /n\n",
            "2. Hasil Penjumlahan dari vektor VD dan vektor VC adalah =/n [[19 27 35]\n",
            " [32 53 74]] /n\n",
            "3. Hasil Pengurangan dari vektor VB dan vektor VA adalah =/n [11 11 11 11] /n\n",
            "4. Hasil Pengurangan dari vektor VC dan vektor VD adalah =/n [[  1  13  25]\n",
            " [-10  -9  -8]] /n\n",
            "PERKALIAN & PEMBAGIAN\n",
            "1. Hasil Perkalian dari vektor VB dan vektor VA adalah =/n [ 26  60 102 152] /n\n",
            "2. Hasil Perkalian dari vektor VC dan vektor VD adalah =/n [[  90  140  150]\n",
            " [ 231  682 1353]] /n\n",
            "3. Hasil Pembagian dari vektor VB dan vektor VA adalah =/n [6.5        3.75       2.83333333 2.375     ] /n\n",
            "4. Hasil Pembagian dari vektor VD dan vektor VC adalah =/n [[0.9        0.35       0.16666667]\n",
            " [1.90909091 1.40909091 1.24242424]] /n\n",
            "PERKALIAN DOT VEKTOR\n",
            "1. Hasil Perkalian dot vektor dari vektor VB dan vektor VA adalah =/n 340 /n\n",
            "2. Hasil Perkalian dari vektor VC dan vektor VD adalah =/n [[ 380 2060]\n",
            " [ 418 2266]] /n\n",
            "PERKALIAN SKALAR\n",
            "1. Hasil dari perkalian skalar vektor a dengan 2 adalah = \n",
            " [ 4  8 12 16] \n",
            "\n",
            "2. Hasil dari perkalian skalar vektor b dengan 2.5 adalah = \n",
            " [32.5 37.5 42.5 47.5] \n",
            "\n",
            "3. Hasil dari perkalian skalar vektor c dengan 0.5 adalah = \n",
            " [[ 5.  10.  15. ]\n",
            " [ 5.5 11.  16.5]] \n",
            "\n",
            "4. Hasil dari perkalian skalar vektor d dengan 1.5 adalah = \n",
            " [[13.5 10.5  7.5]\n",
            " [31.5 46.5 61.5]] \n",
            "\n"
          ]
        }
      ]
    }
  ]
}